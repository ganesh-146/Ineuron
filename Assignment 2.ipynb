{
 "cells": [
  {
   "cell_type": "markdown",
   "id": "b3da09a6",
   "metadata": {},
   "source": [
    "### PYTHON ASSIGNMENT 2\n",
    "\n",
    "### 1. Create the below pattern using nested for loop in Python.\n",
    "### *\n",
    "### *  * \n",
    "### *  *  *\n",
    "### *  *  *  *\n",
    "### *  *  *  *  *\n",
    "### *  *  *  *\n",
    "### *  *  *\n",
    "### *  *\n",
    "### *"
   ]
  },
  {
   "cell_type": "code",
   "execution_count": 7,
   "id": "6e252313",
   "metadata": {},
   "outputs": [
    {
     "name": "stdout",
     "output_type": "stream",
     "text": [
      "\n",
      "* \n",
      "* * \n",
      "* * * \n",
      "* * * * \n",
      "* * * * * \n",
      "* * * * \n",
      "* * * \n",
      "* * \n",
      "* \n"
     ]
    }
   ],
   "source": [
    "n=5\n",
    "for i in range(n):\n",
    "    for j in range(i):\n",
    "        print ('* ', end=\"\")\n",
    "    print('')\n",
    "\n",
    "for i in range(n,0,-1):\n",
    "    for j in range(i):\n",
    "        print('* ', end=\"\")\n",
    "    print('')"
   ]
  },
  {
   "cell_type": "markdown",
   "id": "a00b1b43",
   "metadata": {},
   "source": [
    "### 2. Write a Python program to reverse a word after accepting the input from the user.\n",
    "\n",
    "### Input word: ineuron\n",
    "### Output: norueni"
   ]
  },
  {
   "cell_type": "code",
   "execution_count": 9,
   "id": "9fa34827",
   "metadata": {},
   "outputs": [
    {
     "name": "stdout",
     "output_type": "stream",
     "text": [
      "Enter the word ineuron\n",
      "norueni\n"
     ]
    }
   ],
   "source": [
    "a = input('Enter the word ')\n",
    "print(a[::-1])"
   ]
  },
  {
   "cell_type": "code",
   "execution_count": null,
   "id": "22db8b35",
   "metadata": {},
   "outputs": [],
   "source": []
  }
 ],
 "metadata": {
  "kernelspec": {
   "display_name": "Python 3",
   "language": "python",
   "name": "python3"
  },
  "language_info": {
   "codemirror_mode": {
    "name": "ipython",
    "version": 3
   },
   "file_extension": ".py",
   "mimetype": "text/x-python",
   "name": "python",
   "nbconvert_exporter": "python",
   "pygments_lexer": "ipython3",
   "version": "3.8.8"
  }
 },
 "nbformat": 4,
 "nbformat_minor": 5
}
