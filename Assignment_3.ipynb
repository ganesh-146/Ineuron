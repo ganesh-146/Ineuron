{
 "cells": [
  {
   "cell_type": "markdown",
   "id": "4ef2ae6e",
   "metadata": {},
   "source": [
    "### 1.1  Write a Python Program to implement your own myreduce() function which works exactly like Python's built-in function reduce()"
   ]
  },
  {
   "cell_type": "code",
   "execution_count": 4,
   "id": "2d787aa4",
   "metadata": {},
   "outputs": [
    {
     "data": {
      "text/plain": [
       "10"
      ]
     },
     "execution_count": 4,
     "metadata": {},
     "output_type": "execute_result"
    }
   ],
   "source": [
    "def myreduce(add,lst):\n",
    "    return a\n",
    "\n",
    "def add(a,b):\n",
    "    return a+b\n",
    "\n",
    "lst=[1,2,3,4]\n",
    "a=lst[0]\n",
    "for i in range(1,len(lst)):\n",
    "    b=lst[i]\n",
    "    a=add(a,b)\n",
    "    \n",
    "myreduce(add,lst)"
   ]
  },
  {
   "cell_type": "markdown",
   "id": "8cc130c7",
   "metadata": {},
   "source": [
    "### 1.2 Write a Python program to implement your own myfilter() function which works exactly like Python's built-in function filter()"
   ]
  },
  {
   "cell_type": "code",
   "execution_count": 12,
   "id": "e2a34198",
   "metadata": {},
   "outputs": [
    {
     "name": "stdout",
     "output_type": "stream",
     "text": [
      "[2, 4, 6, 2, 8]\n"
     ]
    }
   ],
   "source": [
    "def myfilter(is_even,lst1):\n",
    "    return is_even()\n",
    "\n",
    "lst2=[1,2,3,4,5,6,2,8]\n",
    "lst3=[]\n",
    "\n",
    "def is_even():\n",
    "    for i in lst2:\n",
    "        if i%2==0:\n",
    "            lst3.append(i)\n",
    "    print(lst3)\n",
    "    \n",
    "myfilter(is_even,lst2)"
   ]
  },
  {
   "cell_type": "markdown",
   "id": "55e5391a",
   "metadata": {},
   "source": [
    "### 2. Implement List comprehensions to produce the following lists. Write List comprehensions to produce the following Lists \n",
    "### ['x', 'xx', 'xxx', 'xxxx', 'y', 'yy', 'yyy', 'yyyy', 'z', 'zz', 'zzz', 'zzzz']\n",
    "### ['x', 'y', 'z', 'xx', 'yy', 'zz', 'xxx', 'yyy', 'zzz', 'xxxx', 'yyyy', 'zzzz']\n",
    "### [[2], [3], [4], [3], [4], [5], [4], [5], [6]]\n",
    "### [[2, 3, 4, 5], [3, 4, 5, 6],[4, 5, 6, 7], [5, 6, 7, 8]]\n",
    "### [(1, 1), (2, 1), (3, 1), (1, 2), (2, 2), (3, 2), (1, 3), (2, 3), (3, 3)]"
   ]
  },
  {
   "cell_type": "code",
   "execution_count": 14,
   "id": "7474f696",
   "metadata": {},
   "outputs": [
    {
     "data": {
      "text/plain": [
       "['x', 'xx', 'xxx', 'xxxx', 'y', 'yy', 'yyy', 'yyyy', 'z', 'zz', 'zzz', 'zzzz']"
      ]
     },
     "execution_count": 14,
     "metadata": {},
     "output_type": "execute_result"
    }
   ],
   "source": [
    "[i*j for i in 'xyz' for j in range(1,5)]"
   ]
  },
  {
   "cell_type": "code",
   "execution_count": 20,
   "id": "838b6864",
   "metadata": {},
   "outputs": [
    {
     "data": {
      "text/plain": [
       "['x', 'y', 'z', 'xx', 'yy', 'zz', 'xxx', 'yyy', 'zzz', 'xxxx', 'yyyy', 'zzzz']"
      ]
     },
     "execution_count": 20,
     "metadata": {},
     "output_type": "execute_result"
    }
   ],
   "source": [
    "[i*j for j in range(1,5) for i in 'xyz']"
   ]
  },
  {
   "cell_type": "code",
   "execution_count": 21,
   "id": "e1a4e3c9",
   "metadata": {},
   "outputs": [
    {
     "data": {
      "text/plain": [
       "[[2], [3], [4], [3], [4], [5], [4], [5], [6]]"
      ]
     },
     "execution_count": 21,
     "metadata": {},
     "output_type": "execute_result"
    }
   ],
   "source": [
    "input_list = [2,3,4]\n",
    "[[i+j] for i in input_list for j in range(0,3)]\n"
   ]
  },
  {
   "cell_type": "code",
   "execution_count": 22,
   "id": "a8acc423",
   "metadata": {},
   "outputs": [
    {
     "data": {
      "text/plain": [
       "[[2, 3, 4, 5], [3, 4, 5, 6], [4, 5, 6, 7], [5, 6, 7, 8]]"
      ]
     },
     "execution_count": 22,
     "metadata": {},
     "output_type": "execute_result"
    }
   ],
   "source": [
    "input_list = [2,3,4,5]\n",
    "[[i+j for i in input_list] for j in range(0,4)]"
   ]
  },
  {
   "cell_type": "code",
   "execution_count": 25,
   "id": "55d3502a",
   "metadata": {},
   "outputs": [
    {
     "data": {
      "text/plain": [
       "[(1, 1), (2, 1), (3, 1), (1, 2), (2, 2), (3, 2), (1, 3), (2, 3), (3, 3)]"
      ]
     },
     "execution_count": 25,
     "metadata": {},
     "output_type": "execute_result"
    }
   ],
   "source": [
    "input_list=[1,2,3]\n",
    "[(j,i) for i in input_list for j in input_list]"
   ]
  },
  {
   "cell_type": "code",
   "execution_count": null,
   "id": "99245d63",
   "metadata": {},
   "outputs": [],
   "source": []
  }
 ],
 "metadata": {
  "kernelspec": {
   "display_name": "Python 3",
   "language": "python",
   "name": "python3"
  },
  "language_info": {
   "codemirror_mode": {
    "name": "ipython",
    "version": 3
   },
   "file_extension": ".py",
   "mimetype": "text/x-python",
   "name": "python",
   "nbconvert_exporter": "python",
   "pygments_lexer": "ipython3",
   "version": "3.8.8"
  }
 },
 "nbformat": 4,
 "nbformat_minor": 5
}
